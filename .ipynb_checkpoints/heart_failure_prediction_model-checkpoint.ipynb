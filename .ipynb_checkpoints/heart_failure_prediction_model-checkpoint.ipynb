{
 "cells": [
  {
   "cell_type": "markdown",
   "metadata": {},
   "source": [
    "# Heart Failiure prediciton model"
   ]
  },
  {
   "cell_type": "markdown",
   "metadata": {},
   "source": [
    "### Importing dependencies"
   ]
  },
  {
   "cell_type": "code",
   "execution_count": 1,
   "metadata": {},
   "outputs": [],
   "source": [
    "from imblearn.over_sampling import SMOTENC\n",
    "import tensorflow as tf\n",
    "import numpy as np\n",
    "import sys\n",
    "import pandas as pd\n",
    "from sklearn.model_selection import train_test_split\n",
    "from sklearn.preprocessing import MinMaxScaler\n",
    "from sklearn.ensemble import RandomForestClassifier\n",
    "from sklearn.metrics import accuracy_score\n",
    "from scipy import stats\n",
    "from sklearn.model_selection import RandomizedSearchCV"
   ]
  },
  {
   "cell_type": "markdown",
   "metadata": {},
   "source": [
    "### Loading the dataset"
   ]
  },
  {
   "cell_type": "code",
   "execution_count": 2,
   "metadata": {},
   "outputs": [],
   "source": [
    "df = pd.read_csv(\"heart_failure_clinical_records_dataset.csv\")"
   ]
  },
  {
   "cell_type": "code",
   "execution_count": 3,
   "metadata": {},
   "outputs": [],
   "source": [
    "x = df.drop(\"DEATH_EVENT\", axis = 1)\n",
    "y = df.DEATH_EVENT"
   ]
  },
  {
   "cell_type": "markdown",
   "metadata": {},
   "source": [
    "### Scaling features (making them all of equal scale)"
   ]
  },
  {
   "cell_type": "code",
   "execution_count": 4,
   "metadata": {},
   "outputs": [],
   "source": [
    "scaler = MinMaxScaler()\n",
    "x[['age', 'creatinine_phosphokinase', 'ejection_fraction', 'platelets', 'serum_creatinine', 'serum_sodium', 'time']] = scaler.fit_transform(x[['age', 'creatinine_phosphokinase', 'ejection_fraction', 'platelets', 'serum_creatinine', 'serum_sodium', 'time']])"
   ]
  },
  {
   "cell_type": "markdown",
   "metadata": {},
   "source": [
    "### Mean encoding"
   ]
  },
  {
   "cell_type": "code",
   "execution_count": 5,
   "metadata": {},
   "outputs": [],
   "source": [
    "def mean_encoding(dataset, collumnname_for_encoding, label_collumn_name):\n",
    "    mean_encoded_collum = df.groupby([collumnname_for_encoding])[label_collumn_name].mean().to_dict()\n",
    "    return mean_encoded_collum"
   ]
  },
  {
   "cell_type": "code",
   "execution_count": 6,
   "metadata": {},
   "outputs": [],
   "source": [
    "anaemia_mean_encoding = mean_encoding(df, \"anaemia\", \"DEATH_EVENT\")\n",
    "anaemia_mean_encoding = x[\"anaemia\"].map(anaemia_mean_encoding)\n",
    "\n",
    "diabetes_mean_encoding = mean_encoding(df, \"diabetes\", \"DEATH_EVENT\")\n",
    "diabetes_mean_encoding = x[\"diabetes\"].map(diabetes_mean_encoding)\n",
    "\n",
    "high_blood_pressure_mean_encoding = mean_encoding(df, \"high_blood_pressure\", \"DEATH_EVENT\")\n",
    "high_blood_pressure_mean_encoding = x[\"high_blood_pressure\"].map(high_blood_pressure_mean_encoding)\n",
    "\n",
    "sex_mean_encoding = mean_encoding(df, \"sex\", \"DEATH_EVENT\")\n",
    "sex_mean_encoding = x[\"sex\"].map(sex_mean_encoding)\n",
    "\n",
    "smoking_mean_encoding = mean_encoding(df, \"smoking\", \"DEATH_EVENT\")\n",
    "smoking_mean_encoding = x[\"smoking\"].map(smoking_mean_encoding)"
   ]
  },
  {
   "cell_type": "code",
   "execution_count": 7,
   "metadata": {},
   "outputs": [],
   "source": [
    "x['anaemia_mean_encoding'] = anaemia_mean_encoding\n",
    "x['diabetes_mean_encoding'] = diabetes_mean_encoding\n",
    "x['high_blood_pressure_mean_encoding'] = high_blood_pressure_mean_encoding\n",
    "x['sex_mean_encoding'] = sex_mean_encoding\n",
    "x['smoking_mean_encoding'] = smoking_mean_encoding"
   ]
  },
  {
   "cell_type": "markdown",
   "metadata": {},
   "source": [
    "### Removal of outliers via the Z score"
   ]
  },
  {
   "cell_type": "code",
   "execution_count": 8,
   "metadata": {},
   "outputs": [],
   "source": [
    "z_score = np.abs(stats.zscore(x))\n",
    "location_of_outliers = np.where(z_score > 3)\n",
    "x.drop(location_of_outliers[0], inplace = True)\n",
    "y.drop(location_of_outliers[0], inplace = True)"
   ]
  },
  {
   "cell_type": "markdown",
   "metadata": {},
   "source": [
    "### Producing new data via tabular data augmentation (by using SMOTE NC)"
   ]
  },
  {
   "cell_type": "code",
   "execution_count": 9,
   "metadata": {},
   "outputs": [],
   "source": [
    "new_x, new_y = SMOTENC(categorical_features=[1,3,5,9,10]).fit_resample(x, y)"
   ]
  },
  {
   "cell_type": "markdown",
   "metadata": {},
   "source": [
    "### Splitting the data into training and test sets"
   ]
  },
  {
   "cell_type": "code",
   "execution_count": 10,
   "metadata": {},
   "outputs": [],
   "source": [
    "x_train, x_test, y_train, y_test = train_test_split(new_x, new_y, test_size = 0.2, random_state = 25)"
   ]
  },
  {
   "cell_type": "markdown",
   "metadata": {},
   "source": [
    "### Modeling"
   ]
  },
  {
   "cell_type": "code",
   "execution_count": 11,
   "metadata": {},
   "outputs": [
    {
     "name": "stdout",
     "output_type": "stream",
     "text": [
      "Accuracy :  0.9615384615384616\n",
      "1.0\n"
     ]
    }
   ],
   "source": [
    "random_forest = RandomForestClassifier(max_depth=12, random_state=25)\n",
    "random_forest.fit(x_train, y_train)\n",
    "y_hat = random_forest.predict(x_test)\n",
    "Accuracy = accuracy_score(y_test, y_hat)\n",
    "print(\"Accuracy : \",Accuracy)\n",
    "print(accuracy_score(y_train, random_forest.predict(x_train)))"
   ]
  },
  {
   "cell_type": "markdown",
   "metadata": {},
   "source": [
    "Was going to use residual boosting but due to the train accuracy being so high (100%) there is no point, due to the second algorithm having no errors to work with"
   ]
  }
 ],
 "metadata": {
  "kernelspec": {
   "display_name": "Python 3",
   "language": "python",
   "name": "python3"
  },
  "language_info": {
   "codemirror_mode": {
    "name": "ipython",
    "version": 3
   },
   "file_extension": ".py",
   "mimetype": "text/x-python",
   "name": "python",
   "nbconvert_exporter": "python",
   "pygments_lexer": "ipython3",
   "version": "3.8.5"
  }
 },
 "nbformat": 4,
 "nbformat_minor": 4
}
